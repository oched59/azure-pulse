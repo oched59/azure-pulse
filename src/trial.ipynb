{
 "cells": [
  {
   "cell_type": "code",
   "execution_count": 8,
   "metadata": {},
   "outputs": [],
   "source": [
    "import openai\n",
    "\n",
    "OPENAI_API_KEY = \"a4afc38d3a6246d3b855a8adcca0d0f1\"\n",
    "prompt = \"what is the capital of Germany \"\n",
    "openai.api_type = \"azure\"\n",
    "openai.api_base = \"https://cog-oaxatpknic6wq.openai.azure.com/\"\n",
    "openai.api_version = \"2023-03-15-preview\"\n",
    "openai.api_key = OPENAI_API_KEY\n",
    "\n",
    "model_name = \"gpt-35-turbo\"\n",
    "deployment_name =\"chat\"\n"
   ]
  },
  {
   "cell_type": "code",
   "execution_count": 14,
   "metadata": {},
   "outputs": [
    {
     "name": "stdout",
     "output_type": "stream",
     "text": [
      "{\n",
      "  \"choices\": [\n",
      "    {\n",
      "      \"finish_reason\": \"length\",\n",
      "      \"index\": 0,\n",
      "      \"logprobs\": null,\n",
      "      \"text\": \" ',\\n  'capital of Germany is Berlin'),\\n ('\"\n",
      "    }\n",
      "  ],\n",
      "  \"created\": 1686052388,\n",
      "  \"id\": \"cmpl-7OPXIOjL9PqIhwDWwENmyIaGudVsw\",\n",
      "  \"model\": \"gpt-35-turbo\",\n",
      "  \"object\": \"text_completion\",\n",
      "  \"usage\": {\n",
      "    \"completion_tokens\": 10,\n",
      "    \"prompt_tokens\": 7,\n",
      "    \"total_tokens\": 17\n",
      "  }\n",
      "}\n"
     ]
    }
   ],
   "source": [
    "\n",
    "output = openai.Completion.create(\n",
    "\n",
    "    prompt = prompt ,\n",
    "    max_tokens = 10,\n",
    "    temperature = 0.9,\n",
    "    engine=deployment_name\n",
    ")\n",
    "print(output)"
   ]
  },
  {
   "cell_type": "code",
   "execution_count": null,
   "metadata": {},
   "outputs": [],
   "source": []
  }
 ],
 "metadata": {
  "kernelspec": {
   "display_name": "Python 3",
   "language": "python",
   "name": "python3"
  },
  "language_info": {
   "codemirror_mode": {
    "name": "ipython",
    "version": 3
   },
   "file_extension": ".py",
   "mimetype": "text/x-python",
   "name": "python",
   "nbconvert_exporter": "python",
   "pygments_lexer": "ipython3",
   "version": "3.11.3"
  },
  "orig_nbformat": 4
 },
 "nbformat": 4,
 "nbformat_minor": 2
}
